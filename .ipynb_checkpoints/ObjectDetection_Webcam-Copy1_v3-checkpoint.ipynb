{
 "cells": [
  {
   "cell_type": "code",
   "execution_count": 3,
   "metadata": {},
   "outputs": [],
   "source": [
    "import cv2,time,pandas\n",
    "import numpy as np\n",
    "import datetime as datetime"
   ]
  },
  {
   "cell_type": "code",
   "execution_count": 4,
   "metadata": {},
   "outputs": [],
   "source": [
    "# Pretrained classes in the model\n",
    "classNames = {0: 'background',\n",
    "              1: 'person', 2: 'bicycle', 3: 'car', 4: 'motorcycle', 5: 'airplane', 6: 'bus',\n",
    "              7: 'train', 8: 'truck',9:'boat', 10: 'traffic light', 11: 'fire hydrant',\n",
    "              13: 'stop sign', 14: 'parking meter'}\n"
   ]
  },
  {
   "cell_type": "code",
   "execution_count": 5,
   "metadata": {},
   "outputs": [],
   "source": [
    "def id_class_name(class_id, classes):\n",
    "    for key, value in classes.items():\n",
    "        if class_id == key:\n",
    "            return value"
   ]
  },
  {
   "cell_type": "code",
   "execution_count": 6,
   "metadata": {},
   "outputs": [],
   "source": [
    "# Loading model\n",
    "model = cv2.dnn.readNetFromTensorflow('models/frozen_inference_graph.pb',\n",
    "                                      'models/ssd_mobilenet_v2_coco_2018_03_29.pbtxt')"
   ]
  },
  {
   "cell_type": "code",
   "execution_count": 7,
   "metadata": {},
   "outputs": [
    {
     "data": {
      "text/plain": [
       "(480, 640, 3)"
      ]
     },
     "execution_count": 7,
     "metadata": {},
     "output_type": "execute_result"
    }
   ],
   "source": [
    "video=cv2.VideoCapture(0)\n",
    "\n",
    "check,frame=video.read()\n",
    "time.sleep(1) \n",
    "frame.shape\n"
   ]
  },
  {
   "cell_type": "code",
   "execution_count": 8,
   "metadata": {},
   "outputs": [
    {
     "name": "stdout",
     "output_type": "stream",
     "text": [
      "1.0 0.99970263 person\n"
     ]
    }
   ],
   "source": [
    "image_height, image_width, _ = frame.shape\n",
    "\n",
    "model.setInput(cv2.dnn.blobFromImage(frame, size=(300, 300), swapRB=True))\n",
    "output = model.forward()\n",
    "# print(output[0,0,:,:].shape)\n",
    "\n",
    "\n",
    "for detection in output[0, 0, :, :]:\n",
    "    confidence = detection[2]\n",
    "    if confidence > .5:\n",
    "        class_id = detection[1]\n",
    "       \n",
    "        class_name=id_class_name(class_id,classNames)\n",
    "        print(str(str(class_id) + \" \" + str(detection[2])  + \" \" + class_name))\n",
    "        box_x = detection[3] * image_width\n",
    "        box_y = detection[4] * image_height\n",
    "        box_width = detection[5] * image_width\n",
    "        box_height = detection[6] * image_height\n",
    "        cv2.rectangle(frame, (int(box_x), int(box_y)), (int(box_width), int(box_height)), (23, 230, 210), thickness=1)\n",
    "        cv2.putText(frame,class_name ,(int(box_x), int(box_y+.05*image_height)),cv2.FONT_HERSHEY_TRIPLEX,(.0005*image_width),(0, 255, 255))"
   ]
  },
  {
   "cell_type": "code",
   "execution_count": 9,
   "metadata": {},
   "outputs": [],
   "source": [
    "cv2.imshow('image', frame)\n",
    "# cv2.imwrite(\"image_box_text.jpg\",image)\n",
    "\n",
    "cv2.waitKey(0)\n",
    "video.release\n",
    "cv2.destroyAllWindows()"
   ]
  },
  {
   "cell_type": "code",
   "execution_count": null,
   "metadata": {},
   "outputs": [],
   "source": []
  },
  {
   "cell_type": "code",
   "execution_count": null,
   "metadata": {},
   "outputs": [],
   "source": []
  }
 ],
 "metadata": {
  "kernelspec": {
   "display_name": "Python 3",
   "language": "python",
   "name": "python3"
  },
  "language_info": {
   "codemirror_mode": {
    "name": "ipython",
    "version": 3
   },
   "file_extension": ".py",
   "mimetype": "text/x-python",
   "name": "python",
   "nbconvert_exporter": "python",
   "pygments_lexer": "ipython3",
   "version": "3.7.3"
  }
 },
 "nbformat": 4,
 "nbformat_minor": 2
}
