{
 "cells": [
  {
   "cell_type": "code",
   "execution_count": 24,
   "metadata": {},
   "outputs": [],
   "source": [
    "import cv2,time,pandas\n",
    "import numpy as np\n",
    "import datetime as datetime"
   ]
  },
  {
   "cell_type": "code",
   "execution_count": 25,
   "metadata": {},
   "outputs": [],
   "source": [
    "# Pretrained classes in the model\n",
    "classNames = {0: 'background',\n",
    "              1: 'person', 2: 'bicycle', 3: 'car', 4: 'motorcycle', 5: 'airplane', 6: 'bus',\n",
    "              7: 'train', 8: 'truck', 9: 'boat', 10: 'traffic light', 11: 'fire hydrant',\n",
    "              13: 'stop sign', 14: 'parking meter', 15: 'bench', 16: 'bird', 17: 'cat',\n",
    "              18: 'dog', 19: 'horse', 20: 'sheep', 21: 'cow', 22: 'elephant', 23: 'bear',\n",
    "              24: 'zebra', 25: 'giraffe', 27: 'backpack', 28: 'umbrella', 31: 'handbag',\n",
    "              32: 'tie', 33: 'suitcase', 34: 'frisbee', 35: 'skis', 36: 'snowboard',\n",
    "              37: 'sports ball', 38: 'kite', 39: 'baseball bat', 40: 'baseball glove',\n",
    "              41: 'skateboard', 42: 'surfboard', 43: 'tennis racket', 44: 'bottle',\n",
    "              46: 'wine glass', 47: 'cup', 48: 'fork', 49: 'knife', 50: 'spoon',\n",
    "              51: 'bowl', 52: 'banana', 53: 'apple', 54: 'sandwich', 55: 'orange',\n",
    "              56: 'broccoli', 57: 'carrot', 58: 'hot dog', 59: 'pizza', 60: 'donut',\n",
    "              61: 'cake', 62: 'chair', 63: 'couch', 64: 'potted plant', 65: 'bed',\n",
    "              67: 'dining table', 70: 'toilet', 72: 'tv', 73: 'laptop', 74: 'mouse',\n",
    "              75: 'remote', 76: 'keyboard', 77: 'cell phone', 78: 'microwave', 79: 'oven',\n",
    "              80: 'toaster', 81: 'sink', 82: 'refrigerator', 84: 'book', 85: 'clock',\n",
    "              86: 'vase', 87: 'scissors', 88: 'teddy bear', 89: 'hair drier', 90: 'toothbrush'}"
   ]
  },
  {
   "cell_type": "code",
   "execution_count": 26,
   "metadata": {},
   "outputs": [],
   "source": [
    "def id_class_name(class_id, classes):\n",
    "    for key, value in classes.items():\n",
    "        if class_id == key:\n",
    "            return value"
   ]
  },
  {
   "cell_type": "code",
   "execution_count": 27,
   "metadata": {},
   "outputs": [],
   "source": [
    "# Loading model\n",
    "model = cv2.dnn.readNetFromTensorflow('models/frozen_inference_graph.pb',\n",
    "                                      'models/ssd_mobilenet_v2_coco_2018_03_29.pbtxt')"
   ]
  },
  {
   "cell_type": "code",
   "execution_count": 43,
   "metadata": {},
   "outputs": [
    {
     "data": {
      "text/plain": [
       "(480, 640, 3)"
      ]
     },
     "execution_count": 43,
     "metadata": {},
     "output_type": "execute_result"
    }
   ],
   "source": [
    "video=cv2.VideoCapture(1)\n",
    "\n",
    "check,frame=video.read()\n",
    "time.sleep(1) \n",
    "frame.shape\n"
   ]
  },
  {
   "cell_type": "code",
   "execution_count": 44,
   "metadata": {},
   "outputs": [
    {
     "name": "stdout",
     "output_type": "stream",
     "text": [
      "3.0 0.96131897 car\n",
      "3.0 0.59292024 car\n",
      "3.0 0.54649675 car\n"
     ]
    }
   ],
   "source": [
    "image_height, image_width, _ = frame.shape\n",
    "\n",
    "model.setInput(cv2.dnn.blobFromImage(frame, size=(300, 300), swapRB=True))\n",
    "output = model.forward()\n",
    "# print(output[0,0,:,:].shape)\n",
    "\n",
    "\n",
    "for detection in output[0, 0, :, :]:\n",
    "    confidence = detection[2]\n",
    "    if confidence > .5:\n",
    "        class_id = detection[1]\n",
    "        class_name=id_class_name(class_id,classNames)\n",
    "        print(str(str(class_id) + \" \" + str(detection[2])  + \" \" + class_name))\n",
    "        box_x = detection[3] * image_width\n",
    "        box_y = detection[4] * image_height\n",
    "        box_width = detection[5] * image_width\n",
    "        box_height = detection[6] * image_height\n",
    "        cv2.rectangle(frame, (int(box_x), int(box_y)), (int(box_width), int(box_height)), (23, 230, 210), thickness=1)\n",
    "        cv2.putText(frame,class_name ,(int(box_x), int(box_y+.05*image_height)),cv2.FONT_HERSHEY_TRIPLEX,(.0005*image_width),(0, 255, 255))"
   ]
  },
  {
   "cell_type": "code",
   "execution_count": null,
   "metadata": {},
   "outputs": [],
   "source": [
    "cv2.imshow('image', frame)\n",
    "# cv2.imwrite(\"image_box_text.jpg\",image)\n",
    "\n",
    "cv2.waitKey(0)\n",
    "video.release\n",
    "cv2.destroyAllWindows()"
   ]
  },
  {
   "cell_type": "code",
   "execution_count": null,
   "metadata": {},
   "outputs": [],
   "source": []
  },
  {
   "cell_type": "code",
   "execution_count": null,
   "metadata": {},
   "outputs": [],
   "source": []
  }
 ],
 "metadata": {
  "kernelspec": {
   "display_name": "Python 3",
   "language": "python",
   "name": "python3"
  },
  "language_info": {
   "codemirror_mode": {
    "name": "ipython",
    "version": 3
   },
   "file_extension": ".py",
   "mimetype": "text/x-python",
   "name": "python",
   "nbconvert_exporter": "python",
   "pygments_lexer": "ipython3",
   "version": "3.7.3"
  }
 },
 "nbformat": 4,
 "nbformat_minor": 2
}
